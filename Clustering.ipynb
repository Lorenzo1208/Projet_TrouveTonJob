{
  "nbformat": 4,
  "nbformat_minor": 0,
  "metadata": {
    "colab": {
      "provenance": [],
      "include_colab_link": true
    },
    "kernelspec": {
      "name": "python3",
      "display_name": "Python 3"
    },
    "language_info": {
      "name": "python"
    }
  },
  "cells": [
    {
      "cell_type": "markdown",
      "metadata": {
        "id": "view-in-github",
        "colab_type": "text"
      },
      "source": [
        "<a href=\"https://colab.research.google.com/github/Lorenzo1208/Projet_TrouveTonJob/blob/main/Clustering.ipynb\" target=\"_parent\"><img src=\"https://colab.research.google.com/assets/colab-badge.svg\" alt=\"Open In Colab\"/></a>"
      ]
    },
    {
      "cell_type": "code",
      "execution_count": null,
      "metadata": {
        "id": "c38BeHI-jeSp"
      },
      "outputs": [],
      "source": [
        "#Lorenzo\n",
        "import pandas as pd\n",
        "from sklearn.cluster import KMeans\n",
        "import matplotlib.pyplot as plt\n",
        "df_patrick = pd.read_csv(\"https://raw.githubusercontent.com/Lorenzo1208/Projet_TrouveTonJob/main/dataset_1.csv\")\n",
        "df_tarik_p = pd.read_csv(\"https://raw.githubusercontent.com/Lorenzo1208/Projet_TrouveTonJob/main/dataset_3.csv\")\n",
        "X = df_patrick.iloc[:, :-1].values\n",
        "kmeans = KMeans(n_clusters=3)\n",
        "kmeans.fit(X)\n",
        "y_kmeans = kmeans.predict(X)"
      ]
    },
    {
      "cell_type": "code",
      "source": [
        "df_tarik_p.dtypes"
      ],
      "metadata": {
        "colab": {
          "base_uri": "https://localhost:8080/"
        },
        "id": "kulzQOAxlQlA",
        "outputId": "ed9b91ee-b3d6-48af-b3f9-9e64aa5c67e3"
      },
      "execution_count": null,
      "outputs": [
        {
          "output_type": "execute_result",
          "data": {
            "text/plain": [
              "Intitulé du poste       object\n",
              "Date de publication     object\n",
              "lieu                    object\n",
              "competences             object\n",
              "Nom de la société       object\n",
              "Type de contrat         object\n",
              "Salaire minimum        float64\n",
              "Salaire maximum        float64\n",
              "origine                 object\n",
              "dtype: object"
            ]
          },
          "metadata": {},
          "execution_count": 8
        }
      ]
    },
    {
      "cell_type": "code",
      "source": [
        "plt.scatter(X[:, 0], X[:, 1], c=y_kmeans, s=50, cmap='viridis')\n",
        "centers = kmeans.cluster_centers_\n",
        "plt.scatter(centers[:, 0], centers[:, 1], c='black', s=200, alpha=0.5)\n",
        "plt.show()\n"
      ],
      "metadata": {
        "id": "X4z4GH8okqN-"
      },
      "execution_count": null,
      "outputs": []
    },
    {
      "cell_type": "code",
      "source": [
        "#Tarik"
      ],
      "metadata": {
        "id": "mKUXpBQGjlyD"
      },
      "execution_count": null,
      "outputs": []
    }
  ]
}