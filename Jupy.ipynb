{
 "cells": [
  {
   "cell_type": "code",
   "execution_count": 1,
   "metadata": {},
   "outputs": [],
   "source": [
    "import string\n",
    "import pandas as pd\n",
    "import numpy as np\n",
    "import requests\n",
    "import unidecode\n",
    "import re\n",
    "\n",
    "\n",
    "def try_download_json(url:str) -> pd.DataFrame:\n",
    "\n",
    "    try:\n",
    "        response = requests.get(url)\n",
    "        data = response.json()\n",
    "        return pd.DataFrame(data)\n",
    "\n",
    "    except:\n",
    "        print(f\"Erreur de chargement du lien - {url}\")\n",
    "        quit()\n",
    "\n",
    "\n",
    "def clean_data(df:pd.DataFrame) -> pd.DataFrame:\n",
    "\n",
    "    liste_salaires = df['lieu'].apply(lambda x : x[1] if len(x) > 1 else '')\n",
    "\n",
    "    df['lieu'] = df['lieu'].apply(lambda x : unidecode.unidecode(x[0]))\n",
    "\n",
    "    df['Nom de la société'] = df['Type de poste'].apply(lambda x : x[2] if len(x) > 2 else '')\n",
    "    df['Type de contrat'] = df['Type de poste'].apply(lambda x : x[7].split(' - ')[0] if len(x) > 7 else '')\n",
    "    df.drop(columns='Type de poste', inplace=True)\n",
    "\n",
    "    df = df.apply(lambda c : c.apply(lambda x : ','.join([s.strip(\"\\n \").lower() for s in (x.split(',') if type(x) != list else x)])))\n",
    "\n",
    "    liste_dates = df['Date de publication'].apply(lambda x: '0 j' if x.find('heures') != -1 else x.removeprefix('postée il y a ').replace('postée hier', '1 j').strip('iorsu'))\n",
    "\n",
    "    df['Date de publication'] = pd.to_datetime(liste_dates.apply(\n",
    "        lambda x :\n",
    "            pd.to_datetime(\"2023-01-15\") - (pd.DateOffset(months=int(x.split()[0])) if x.split()[1] == 'm' else pd.DateOffset(days=int(x.split()[0])))\n",
    "        ))\n",
    "\n",
    "    df['Salaire minimum'] = liste_salaires.apply(lambda x : float(x.split(' - ')[0].strip(' €\\n').replace('.', '').replace(',', '.')) if x != '' else np.nan)\n",
    "    df['Salaire maximum'] = liste_salaires.apply(lambda x : float(x.split(' - ')[1].strip(' €/an\\n' + string.ascii_letters).replace('.', '').replace(',', '.')) if x != '' else np.nan)\n",
    "\n",
    "    noms_ville = ['la defense', 'guyancourt', 'antony', 'paris']\n",
    "\n",
    "    df['lieu'] = df['lieu'].apply(\n",
    "        lambda x :\n",
    "            ([n for n in noms_ville for i in x.replace(' - ', ',').replace('-', ' ').split(',') if n in i] + [x.replace('-', ' ')])[0]\n",
    "        )\n",
    "\n",
    "    #remplace si data analyst dans vavlue par data analyste etc\n",
    "    terms_to_replace = {'analyst': 'data analyst', 'datascientist': 'data scientist', 'data engineer': 'ingénieur','conultant/analyste': 'consultant/analyste','2018788': '',\n",
    "                        'developer': 'developpeur','full stacke': 'developpeur','global technical seo manager': 'manager','engineer': 'ingenieur','lead': 'chef','full': 'developpeur','ingénieur': 'ingenieur','analyste': 'data analyst','product': 'chef de projet'}\n",
    "    df[\"Intitulé du poste\"] = df[\"Intitulé du poste\"].apply(lambda x: ' '.join([terms_to_replace.get(term, term) for term in unidecode.unidecode(x).split()]))\n",
    "\n",
    "    keywords = [\"stage\",\"business analyst\",\"analyste fonctionnel\",\"architecte\",\"apprenti\",\"data ingenieur\",\"data ingénieur\", \"data engineer\",\"data analyst\",\"data scientist\",\"consultant\",\"ingenieur\",\"chef de projet\",\"concepteur\",\"alternance\",\n",
    "                \"technical leader\",\"technicien\",\"responsable\",\"référent\",\"expert\",\"developpeur\",\"specialiste\",\"referent\",\"manager\",\"postdoctorant\",\"internship\"]\n",
    "\n",
    "    for keyword in keywords:\n",
    "        df[\"Intitulé du poste\"] = df[\"Intitulé du poste\"].str.replace(rf\"(.*{keyword})\", keyword, regex=True)\n",
    "        df[\"Intitulé du poste\"] = df[\"Intitulé du poste\"].str.replace(rf\"({keyword}.*)\", keyword, regex=True)\n",
    "\n",
    "    df['Intitulé du poste'] = df['Intitulé du poste'].apply(lambda x: re.sub(r'[hf]/[hf]|[-\\/()]', '', x))\n",
    "\n",
    "    return df\n",
    "\n",
    "\n",
    "def main():\n",
    "\n",
    "    url = \"https://raw.githubusercontent.com/Lorenzo1208/Projet_TrouveTonJob/main/data.json\"\n",
    "\n",
    "    df = try_download_json(url)\n",
    "    df = clean_data(df)\n",
    "\n",
    "    df.to_csv(\"data_clean.csv\")\n",
    "\n",
    "\n",
    "if __name__ == '__main__':\n",
    "    main()"
   ]
  },
  {
   "cell_type": "code",
   "execution_count": 2,
   "metadata": {},
   "outputs": [
    {
     "data": {
      "text/plain": [
       "0                                [sql, t-sql, outils]\n",
       "1          [support, outils, agile, design, big data]\n",
       "2               [crm, data quality, sql, sas, python]\n",
       "3                                  [si, support, sap]\n",
       "4           [outils, support, decisionnel, sql, test]\n",
       "                            ...                      \n",
       "225          [sap, abap, progiciel, système, support]\n",
       "226      [digital, outils, securité, sécurité, t-sql]\n",
       "227              [test, serveur, jquery, mobile, tdd]\n",
       "228      [nosql, unix, java, machine learning, linux]\n",
       "229    [big data, support, python, réseaux, securité]\n",
       "Name: competences, Length: 229, dtype: object"
      ]
     },
     "execution_count": 2,
     "metadata": {},
     "output_type": "execute_result"
    }
   ],
   "source": [
    "df = pd.read_csv(\"data_clean.csv\")\n",
    "df = df.dropna(subset=[\"competences\"])\n",
    "df = df[df[\"competences\"] != \"\"]\n",
    "df[\"competences\"] = df[\"competences\"].str.split(\",\")\n",
    "df_exploded = df.explode('competences')\n",
    "df[\"competences\"]\n"
   ]
  },
  {
   "cell_type": "code",
   "execution_count": 3,
   "metadata": {},
   "outputs": [
    {
     "name": "stdout",
     "output_type": "stream",
     "text": [
      "Index(['outils', 'support', 'si', 'big data', 'securité'], dtype='object')\n"
     ]
    }
   ],
   "source": [
    "competences_count = df_exploded[\"competences\"].value_counts()\n",
    "top_5_competences = competences_count.nlargest(5)\n",
    "top_5_competences = top_5_competences.index\n",
    "print(top_5_competences)"
   ]
  },
  {
   "cell_type": "code",
   "execution_count": 4,
   "metadata": {},
   "outputs": [
    {
     "name": "stdout",
     "output_type": "stream",
     "text": [
      "['cdi' 'cdd/intérim' 'stage' 'contrat de professionnalisation'\n",
      " \"contrat d'apprentissage\"]\n"
     ]
    }
   ],
   "source": [
    "unique_types = df[\"Type de contrat\"].unique()\n",
    "unique_types = unique_types[~pd.isna(unique_types)]\n",
    "print(unique_types)"
   ]
  },
  {
   "cell_type": "code",
   "execution_count": null,
   "metadata": {},
   "outputs": [],
   "source": [
    "import matplotlib.pyplot as plt\n",
    "\n",
    "df = pd.read_csv(\"data_clean.csv\")\n",
    "df = df.dropna(subset=[\"competences\"])\n",
    "df = df[df[\"competences\"] != \"\"]\n",
    "df[\"competences\"] = df[\"competences\"].str.split(\",\")\n",
    "df_exploded = df.explode('competences')\n",
    "competences_count = df_exploded[\"competences\"].value_counts()\n",
    "top_20_competences = competences_count.nlargest(20)\n",
    "top_20_competences = top_20_competences.index\n",
    "job_title_count = df['Intitulé du poste'].value_counts()\n",
    "top_10_job_titles = job_title_count.nlargest(10)\n",
    "top_10_job_titles = top_10_job_titles.index\n",
    "df_filtered = df_exploded[df_exploded[\"Intitulé du poste\"].isin(top_10_job_titles)]\n",
    "df_filtered = df_filtered[df_filtered[\"competences\"].isin(top_20_competences)]\n",
    "competences_count = df_filtered.groupby([\"Intitulé du poste\", \"competences\"]).size().reset_index(name=\"count\")\n",
    "competences_count = competences_count.pivot(index='competences', columns='Intitulé du poste', values='count')\n",
    "competences_count.plot(kind=\"bar\", stacked=True, figsize=(20, 10))\n",
    "plt.xlabel(\"Compétences\")\n",
    "plt.ylabel(\"Nombre d'occurrences\")\n",
    "plt.title(\"Fréquence des 20 compétences les plus utilisées pour chaque type de poste parmi les 10 intitulés de poste les plus utilisés\")\n",
    "plt.show()"
   ]
  }
 ],
 "metadata": {
  "kernelspec": {
   "display_name": "Python 3",
   "language": "python",
   "name": "python3"
  },
  "language_info": {
   "codemirror_mode": {
    "name": "ipython",
    "version": 3
   },
   "file_extension": ".py",
   "mimetype": "text/x-python",
   "name": "python",
   "nbconvert_exporter": "python",
   "pygments_lexer": "ipython3",
   "version": "3.11.1"
  },
  "orig_nbformat": 4,
  "vscode": {
   "interpreter": {
    "hash": "63e079134cb38ce80821ba824b79e18bb3846e8252c2e11cec491a3b9edeb047"
   }
  }
 },
 "nbformat": 4,
 "nbformat_minor": 2
}
