{
 "cells": [
  {
   "cell_type": "code",
   "execution_count": 176,
   "metadata": {},
   "outputs": [],
   "source": [
    "import requests\n",
    "import pandas as pd\n",
    "import re\n",
    "\n",
    "url = \"https://raw.githubusercontent.com/Lorenzo1208/Projet_TrouveTonJob/main/data.json\"\n",
    "response = requests.get(url)\n",
    "data = response.json()\n",
    "df = pd.DataFrame(data)\n",
    "\n",
    "# df['salaire_minimum'] = df['lieu'].apply(lambda x: x[1] if len(x) > 1 else '')\n",
    "# df[\"salaire_maximum\"] = df[\"salaire_minimum\"].apply(lambda x: x.split(\"-\")[1].strip() if '-' in x else '')\n",
    "# df[\"salaire_minimum\"] = df[\"salaire_minimum\"].apply(lambda x: x.split(\"-\")[0].strip() if '-' in x else x)\n",
    "\n",
    "###########################################################\n",
    "# Colonne [[\"salaire_minimum\", \"salaire_maximum\"]]\n",
    "###########################################################\n",
    "\n",
    "# Divisez la colonne \"lieu\" en colonnes \"salaire_minimum\" et \"salaire_maximum\".\n",
    "df[[\"salaire_minimum\", \"salaire_maximum\"]] = df[\"lieu\"].apply(lambda x: pd.Series(x[1].split(\"-\")) if len(x) > 1 and '-' in x[1] else pd.Series(['', '']))\n",
    "\n",
    "# Supprimer certains caractères et en remplacer d'autres dans la colonne \"salaire_minimum\".\n",
    "df[[\"salaire_minimum\", \"salaire_maximum\"]] = df[[\"salaire_minimum\", \"salaire_maximum\"]].apply(lambda x: x.str.strip().str.replace(',','.').str.replace('€','').str.replace(' ','').str.replace('/an',''))\n",
    "\n",
    "# Remplacer \"selonprofil\" par \"50000\" dans la colonne \"salaire_maximum\".\n",
    "df[\"salaire_maximum\"] = df[\"salaire_maximum\"].str.replace('selonprofil', '50000')\n",
    "\n",
    "# Remplacer \".000\" par \"000\" dans les colonnes\n",
    "df[[\"salaire_minimum\", \"salaire_maximum\"]] = df[[\"salaire_minimum\", \"salaire_maximum\"]].replace('.000', '000', regex=True)\n",
    "\n",
    "###########################################################\n",
    "# Colonne [\"lieu\"]\n",
    "###########################################################\n",
    "# Extraire le premier élément de la colonne \"lieu\" et le réaffecter au DataFrame.\n",
    "df[\"lieu\"] = df[\"lieu\"].apply(lambda x: x[0])\n",
    "\n",
    "###########################################################\n",
    "# Toutes les colonnes \n",
    "###########################################################\n",
    "# Supprimez les espaces et mettre en minuscules tous les éléments de toutes les colonnes, puis join avec des virgules.\n",
    "df = df.apply(lambda c : c.apply(lambda x : ','.join([s.strip(\"\\n \").lower() for s in (x.split(',') if type(x) != list else x)])))\n",
    "\n",
    "###########################################################\n",
    "# Colonne [\"Intitulé du poste\"]\n",
    "###########################################################\n",
    "# Enlever \"(h/f)\" de la colonne \"Intitulé du poste\".\n",
    "df[\"Intitulé du poste\"] = df[\"Intitulé du poste\"].apply(lambda x: x.strip(\"(h/f)\"))\n",
    "\n",
    "###########################################################\n",
    "# Colonne [[\"salaire_minimum\", \"salaire_maximum\"]]\n",
    "###########################################################\n",
    "# Convert les éléments de la colonne \"salaire_minimum\" et \"salaire_maximum\" en float.\n",
    "df[\"salaire_minimum\"] = df[\"salaire_minimum\"].apply(lambda x: float(x) if x else x)\n",
    "df[\"salaire_maximum\"] = df[\"salaire_maximum\"].apply(lambda x: float(x) if x else x)\n",
    "\n",
    "# Remplacez toutes les valeurs 0 dans la colonne \"salaire_minimum\" par 30000.\n",
    "df[\"salaire_minimum\"] = df[\"salaire_minimum\"].replace(0,30000)\n",
    "df[\"salaire_maximum\"] = df[\"salaire_maximum\"].replace(0,50000)\n",
    "\n",
    "# Convertissez les éléments de la colonne \"salaire_minimum\" et \"salaire_maximum\" en nombres entiers et réaffectez-les au DataFrame.\n",
    "df[\"salaire_minimum\"] = df[\"salaire_minimum\"].apply(lambda x: int(x) if x else None)\n",
    "df[\"salaire_maximum\"] = df[\"salaire_maximum\"].apply(lambda x: int(x) if x else None)\n",
    "\n",
    "df.to_csv(\"data_test1.csv\", index=False)"
   ]
  },
  {
   "cell_type": "code",
   "execution_count": 173,
   "metadata": {},
   "outputs": [
    {
     "data": {
      "text/plain": [
       "Intitulé du poste       object\n",
       "Date de publication     object\n",
       "lieu                    object\n",
       "competences             object\n",
       "Type de poste           object\n",
       "salaire_minimum        float64\n",
       "salaire_maximum        float64\n",
       "dtype: object"
      ]
     },
     "execution_count": 173,
     "metadata": {},
     "output_type": "execute_result"
    }
   ],
   "source": [
    "df.dtypes"
   ]
  }
 ],
 "metadata": {
  "kernelspec": {
   "display_name": "Python 3",
   "language": "python",
   "name": "python3"
  },
  "language_info": {
   "codemirror_mode": {
    "name": "ipython",
    "version": 3
   },
   "file_extension": ".py",
   "mimetype": "text/x-python",
   "name": "python",
   "nbconvert_exporter": "python",
   "pygments_lexer": "ipython3",
   "version": "3.11.1"
  },
  "orig_nbformat": 4,
  "vscode": {
   "interpreter": {
    "hash": "63e079134cb38ce80821ba824b79e18bb3846e8252c2e11cec491a3b9edeb047"
   }
  }
 },
 "nbformat": 4,
 "nbformat_minor": 2
}
