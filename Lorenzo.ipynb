{
 "cells": [
  {
   "cell_type": "code",
   "execution_count": 4,
   "metadata": {},
   "outputs": [
    {
     "data": {
      "text/plain": [
       "(230, 5)"
      ]
     },
     "execution_count": 4,
     "metadata": {},
     "output_type": "execute_result"
    }
   ],
   "source": [
    "import requests\n",
    "import pandas as pd\n",
    "\n",
    "url = \"https://raw.githubusercontent.com/Lorenzo1208/Projet_TrouveTonJob/main/data.json\"\n",
    "response = requests.get(url)\n",
    "data = response.json()\n",
    "\n",
    "df = pd.DataFrame(data)\n",
    "\n",
    "df.shape"
   ]
  },
  {
   "cell_type": "code",
   "execution_count": 7,
   "metadata": {},
   "outputs": [
    {
     "name": "stdout",
     "output_type": "stream",
     "text": [
      "<class 'pandas.core.frame.DataFrame'>\n",
      "RangeIndex: 230 entries, 0 to 229\n",
      "Data columns (total 5 columns):\n",
      " #   Column               Non-Null Count  Dtype \n",
      "---  ------               --------------  ----- \n",
      " 0   Intitulé du poste    230 non-null    object\n",
      " 1   Date de publication  230 non-null    object\n",
      " 2   lieu                 230 non-null    object\n",
      " 3   competences          230 non-null    object\n",
      " 4   Type de poste        230 non-null    object\n",
      "dtypes: object(5)\n",
      "memory usage: 9.1+ KB\n"
     ]
    }
   ],
   "source": [
    "df.info()"
   ]
  },
  {
   "cell_type": "code",
   "execution_count": 6,
   "metadata": {},
   "outputs": [
    {
     "data": {
      "text/html": [
       "<div>\n",
       "<style scoped>\n",
       "    .dataframe tbody tr th:only-of-type {\n",
       "        vertical-align: middle;\n",
       "    }\n",
       "\n",
       "    .dataframe tbody tr th {\n",
       "        vertical-align: top;\n",
       "    }\n",
       "\n",
       "    .dataframe thead th {\n",
       "        text-align: right;\n",
       "    }\n",
       "</style>\n",
       "<table border=\"1\" class=\"dataframe\">\n",
       "  <thead>\n",
       "    <tr style=\"text-align: right;\">\n",
       "      <th></th>\n",
       "      <th>Intitulé du poste</th>\n",
       "      <th>Date de publication</th>\n",
       "      <th>lieu</th>\n",
       "      <th>competences</th>\n",
       "      <th>Type de poste</th>\n",
       "    </tr>\n",
       "  </thead>\n",
       "  <tbody>\n",
       "    <tr>\n",
       "      <th>count</th>\n",
       "      <td>230</td>\n",
       "      <td>230</td>\n",
       "      <td>230</td>\n",
       "      <td>230</td>\n",
       "      <td>230</td>\n",
       "    </tr>\n",
       "    <tr>\n",
       "      <th>unique</th>\n",
       "      <td>203</td>\n",
       "      <td>32</td>\n",
       "      <td>72</td>\n",
       "      <td>203</td>\n",
       "      <td>79</td>\n",
       "    </tr>\n",
       "    <tr>\n",
       "      <th>top</th>\n",
       "      <td>[DEVELOPPEUR AGILE-(H/F)\\n]</td>\n",
       "      <td>\\npostée il y a 1 mois\\n</td>\n",
       "      <td>[\\nParis\\n]</td>\n",
       "      <td>[\\nagile\\n, \\nsql\\n, \\nsupport\\n, \\npython\\n, ...</td>\n",
       "      <td>[\\n, \\n, Société générale, \\n, Client final, \\...</td>\n",
       "    </tr>\n",
       "    <tr>\n",
       "      <th>freq</th>\n",
       "      <td>3</td>\n",
       "      <td>24</td>\n",
       "      <td>38</td>\n",
       "      <td>4</td>\n",
       "      <td>35</td>\n",
       "    </tr>\n",
       "  </tbody>\n",
       "</table>\n",
       "</div>"
      ],
      "text/plain": [
       "                  Intitulé du poste       Date de publication         lieu  \\\n",
       "count                           230                       230          230   \n",
       "unique                          203                        32           72   \n",
       "top     [DEVELOPPEUR AGILE-(H/F)\\n]  \\npostée il y a 1 mois\\n  [\\nParis\\n]   \n",
       "freq                              3                        24           38   \n",
       "\n",
       "                                              competences  \\\n",
       "count                                                 230   \n",
       "unique                                                203   \n",
       "top     [\\nagile\\n, \\nsql\\n, \\nsupport\\n, \\npython\\n, ...   \n",
       "freq                                                    4   \n",
       "\n",
       "                                            Type de poste  \n",
       "count                                                 230  \n",
       "unique                                                 79  \n",
       "top     [\\n, \\n, Société générale, \\n, Client final, \\...  \n",
       "freq                                                   35  "
      ]
     },
     "execution_count": 6,
     "metadata": {},
     "output_type": "execute_result"
    }
   ],
   "source": [
    "df.describe()"
   ]
  }
 ],
 "metadata": {
  "kernelspec": {
   "display_name": "Python 3",
   "language": "python",
   "name": "python3"
  },
  "language_info": {
   "codemirror_mode": {
    "name": "ipython",
    "version": 3
   },
   "file_extension": ".py",
   "mimetype": "text/x-python",
   "name": "python",
   "nbconvert_exporter": "python",
   "pygments_lexer": "ipython3",
   "version": "3.11.1"
  },
  "orig_nbformat": 4,
  "vscode": {
   "interpreter": {
    "hash": "63e079134cb38ce80821ba824b79e18bb3846e8252c2e11cec491a3b9edeb047"
   }
  }
 },
 "nbformat": 4,
 "nbformat_minor": 2
}
