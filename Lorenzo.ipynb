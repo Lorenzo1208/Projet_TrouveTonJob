{
 "cells": [
  {
   "cell_type": "code",
   "execution_count": 4,
   "metadata": {},
   "outputs": [
    {
     "data": {
      "text/plain": [
       "(230, 5)"
      ]
     },
     "execution_count": 4,
     "metadata": {},
     "output_type": "execute_result"
    }
   ],
   "source": [
    "import requests\n",
    "import pandas as pd\n",
    "\n",
    "url = \"https://raw.githubusercontent.com/Lorenzo1208/Projet_TrouveTonJob/main/data.json\"\n",
    "response = requests.get(url)\n",
    "data = response.json()\n",
    "\n",
    "df = pd.DataFrame(data)\n",
    "\n",
    "df.shape"
   ]
  },
  {
   "cell_type": "code",
   "execution_count": 11,
   "metadata": {},
   "outputs": [
    {
     "data": {
      "text/html": [
       "<div>\n",
       "<style scoped>\n",
       "    .dataframe tbody tr th:only-of-type {\n",
       "        vertical-align: middle;\n",
       "    }\n",
       "\n",
       "    .dataframe tbody tr th {\n",
       "        vertical-align: top;\n",
       "    }\n",
       "\n",
       "    .dataframe thead th {\n",
       "        text-align: right;\n",
       "    }\n",
       "</style>\n",
       "<table border=\"1\" class=\"dataframe\">\n",
       "  <thead>\n",
       "    <tr style=\"text-align: right;\">\n",
       "      <th></th>\n",
       "      <th>Intitulé du poste</th>\n",
       "      <th>Date de publication</th>\n",
       "      <th>lieu</th>\n",
       "      <th>competences</th>\n",
       "      <th>Type de poste</th>\n",
       "    </tr>\n",
       "  </thead>\n",
       "  <tbody>\n",
       "    <tr>\n",
       "      <th>0</th>\n",
       "      <td>[\\nData Analyst - Publicité\\n]</td>\n",
       "      <td>\\npostée il y a 21 jours\\n</td>\n",
       "      <td>[\\nParis\\n]</td>\n",
       "      <td>[\\nsql\\n, \\nt-sql\\n, \\noutils\\n]</td>\n",
       "      <td>[\\n, \\n, Sept Lieues SAS, \\n, Cabinet de recru...</td>\n",
       "    </tr>\n",
       "    <tr>\n",
       "      <th>1</th>\n",
       "      <td>[Data analyst - H/F\\n]</td>\n",
       "      <td>\\npostée il y a 1 mois\\n</td>\n",
       "      <td>[\\nParis, La Défense\\n]</td>\n",
       "      <td>[\\nsupport\\n, \\noutils\\n, \\nagile\\n, \\ndesign\\...</td>\n",
       "      <td>[\\n, \\n, EDF France, \\n, Client final, \\n, \\n,...</td>\n",
       "    </tr>\n",
       "    <tr>\n",
       "      <th>2</th>\n",
       "      <td>[Customer Data Analyst (H/F)\\n]</td>\n",
       "      <td>\\npostée il y a 27 jours\\n</td>\n",
       "      <td>[\\nParis\\n]</td>\n",
       "      <td>[\\ncrm\\n, \\ndata quality\\n, \\nsql\\n, \\nsas\\n, ...</td>\n",
       "      <td>[\\n, \\n, Hermès, \\n, Client final, \\n, \\n, \\nC...</td>\n",
       "    </tr>\n",
       "    <tr>\n",
       "      <th>3</th>\n",
       "      <td>[Master Data Analyst H/F\\n]</td>\n",
       "      <td>\\npostée il y a 21 jours\\n</td>\n",
       "      <td>[\\nMoussy-le-Vieux\\n]</td>\n",
       "      <td>[\\nsi\\n, \\nsupport\\n, \\nsap\\n]</td>\n",
       "      <td>[\\n, \\n, TEREOS, \\n, Client final, \\n, \\n, \\nC...</td>\n",
       "    </tr>\n",
       "    <tr>\n",
       "      <th>4</th>\n",
       "      <td>[Portfolio Data Analyst H/F\\n]</td>\n",
       "      <td>\\npostée il y a 3 jours\\n</td>\n",
       "      <td>[\\nFrance\\n]</td>\n",
       "      <td>[\\noutils\\n, \\nsupport\\n, \\ndecisionnel\\n, \\ns...</td>\n",
       "      <td>[\\n, \\n, Safran-Group, \\n, Client final, \\n, \\...</td>\n",
       "    </tr>\n",
       "    <tr>\n",
       "      <th>...</th>\n",
       "      <td>...</td>\n",
       "      <td>...</td>\n",
       "      <td>...</td>\n",
       "      <td>...</td>\n",
       "      <td>...</td>\n",
       "    </tr>\n",
       "    <tr>\n",
       "      <th>225</th>\n",
       "      <td>[SAP Fiori Developer (H/F)\\n]</td>\n",
       "      <td>\\npostée il y a 27 jours\\n</td>\n",
       "      <td>[\\nSaint-Ouen\\n]</td>\n",
       "      <td>[\\nsap\\n, \\nabap\\n, \\nprogiciel\\n, \\nsystème\\n...</td>\n",
       "      <td>[\\n, \\n, Groupe ENGIE, \\n, Client final, \\n, \\...</td>\n",
       "    </tr>\n",
       "    <tr>\n",
       "      <th>226</th>\n",
       "      <td>[ENGIE Digital - Architecte Données (H/F)\\n]</td>\n",
       "      <td>\\npostée il y a 3 jours\\n</td>\n",
       "      <td>[\\nParis\\n]</td>\n",
       "      <td>[\\ndigital\\n, \\noutils\\n, \\nsecurité\\n, \\nsécu...</td>\n",
       "      <td>[\\n, \\n, Groupe ENGIE, \\n, Client final, \\n, \\...</td>\n",
       "    </tr>\n",
       "    <tr>\n",
       "      <th>227</th>\n",
       "      <td>[Quality Assurance - Lead QA - Lead Acceptance...</td>\n",
       "      <td>\\npostée il y a 2 heures\\n</td>\n",
       "      <td>[\\nBoulogne-Billancourt\\n]</td>\n",
       "      <td>[\\ntest\\n, \\nserveur\\n, \\njquery\\n, \\nmobile\\n...</td>\n",
       "      <td>[\\n, \\n, Francaise des jeux, \\n, Client final,...</td>\n",
       "    </tr>\n",
       "    <tr>\n",
       "      <th>228</th>\n",
       "      <td>[\\nDATA SCIENTIST\\n]</td>\n",
       "      <td>\\npostée il y a 16 jours\\n</td>\n",
       "      <td>[\\nNEUILLY SUR SEINE\\n, \\n38.000,00 € - 50.000...</td>\n",
       "      <td>[\\nnosql\\n, \\nunix\\n, \\njava\\n, \\nmachine lear...</td>\n",
       "      <td>[\\n, \\n, BEEZEN, \\n, ESN, \\n, \\n, \\nCDI - temp...</td>\n",
       "    </tr>\n",
       "    <tr>\n",
       "      <th>229</th>\n",
       "      <td>[Datascientist (H/F)\\n]</td>\n",
       "      <td>\\npostée il y a 3 jours\\n</td>\n",
       "      <td>[\\nSaint-Ouen\\n]</td>\n",
       "      <td>[\\nbig data\\n, \\nsupport\\n, \\npython\\n, \\nrése...</td>\n",
       "      <td>[\\n, \\n, Groupe ENGIE, \\n, Client final, \\n, \\...</td>\n",
       "    </tr>\n",
       "  </tbody>\n",
       "</table>\n",
       "<p>230 rows × 5 columns</p>\n",
       "</div>"
      ],
      "text/plain": [
       "                                     Intitulé du poste  \\\n",
       "0                       [\\nData Analyst - Publicité\\n]   \n",
       "1                               [Data analyst - H/F\\n]   \n",
       "2                      [Customer Data Analyst (H/F)\\n]   \n",
       "3                          [Master Data Analyst H/F\\n]   \n",
       "4                       [Portfolio Data Analyst H/F\\n]   \n",
       "..                                                 ...   \n",
       "225                      [SAP Fiori Developer (H/F)\\n]   \n",
       "226       [ENGIE Digital - Architecte Données (H/F)\\n]   \n",
       "227  [Quality Assurance - Lead QA - Lead Acceptance...   \n",
       "228                               [\\nDATA SCIENTIST\\n]   \n",
       "229                            [Datascientist (H/F)\\n]   \n",
       "\n",
       "            Date de publication  \\\n",
       "0    \\npostée il y a 21 jours\\n   \n",
       "1      \\npostée il y a 1 mois\\n   \n",
       "2    \\npostée il y a 27 jours\\n   \n",
       "3    \\npostée il y a 21 jours\\n   \n",
       "4     \\npostée il y a 3 jours\\n   \n",
       "..                          ...   \n",
       "225  \\npostée il y a 27 jours\\n   \n",
       "226   \\npostée il y a 3 jours\\n   \n",
       "227  \\npostée il y a 2 heures\\n   \n",
       "228  \\npostée il y a 16 jours\\n   \n",
       "229   \\npostée il y a 3 jours\\n   \n",
       "\n",
       "                                                  lieu  \\\n",
       "0                                          [\\nParis\\n]   \n",
       "1                              [\\nParis, La Défense\\n]   \n",
       "2                                          [\\nParis\\n]   \n",
       "3                                [\\nMoussy-le-Vieux\\n]   \n",
       "4                                         [\\nFrance\\n]   \n",
       "..                                                 ...   \n",
       "225                                   [\\nSaint-Ouen\\n]   \n",
       "226                                        [\\nParis\\n]   \n",
       "227                         [\\nBoulogne-Billancourt\\n]   \n",
       "228  [\\nNEUILLY SUR SEINE\\n, \\n38.000,00 € - 50.000...   \n",
       "229                                   [\\nSaint-Ouen\\n]   \n",
       "\n",
       "                                           competences  \\\n",
       "0                     [\\nsql\\n, \\nt-sql\\n, \\noutils\\n]   \n",
       "1    [\\nsupport\\n, \\noutils\\n, \\nagile\\n, \\ndesign\\...   \n",
       "2    [\\ncrm\\n, \\ndata quality\\n, \\nsql\\n, \\nsas\\n, ...   \n",
       "3                       [\\nsi\\n, \\nsupport\\n, \\nsap\\n]   \n",
       "4    [\\noutils\\n, \\nsupport\\n, \\ndecisionnel\\n, \\ns...   \n",
       "..                                                 ...   \n",
       "225  [\\nsap\\n, \\nabap\\n, \\nprogiciel\\n, \\nsystème\\n...   \n",
       "226  [\\ndigital\\n, \\noutils\\n, \\nsecurité\\n, \\nsécu...   \n",
       "227  [\\ntest\\n, \\nserveur\\n, \\njquery\\n, \\nmobile\\n...   \n",
       "228  [\\nnosql\\n, \\nunix\\n, \\njava\\n, \\nmachine lear...   \n",
       "229  [\\nbig data\\n, \\nsupport\\n, \\npython\\n, \\nrése...   \n",
       "\n",
       "                                         Type de poste  \n",
       "0    [\\n, \\n, Sept Lieues SAS, \\n, Cabinet de recru...  \n",
       "1    [\\n, \\n, EDF France, \\n, Client final, \\n, \\n,...  \n",
       "2    [\\n, \\n, Hermès, \\n, Client final, \\n, \\n, \\nC...  \n",
       "3    [\\n, \\n, TEREOS, \\n, Client final, \\n, \\n, \\nC...  \n",
       "4    [\\n, \\n, Safran-Group, \\n, Client final, \\n, \\...  \n",
       "..                                                 ...  \n",
       "225  [\\n, \\n, Groupe ENGIE, \\n, Client final, \\n, \\...  \n",
       "226  [\\n, \\n, Groupe ENGIE, \\n, Client final, \\n, \\...  \n",
       "227  [\\n, \\n, Francaise des jeux, \\n, Client final,...  \n",
       "228  [\\n, \\n, BEEZEN, \\n, ESN, \\n, \\n, \\nCDI - temp...  \n",
       "229  [\\n, \\n, Groupe ENGIE, \\n, Client final, \\n, \\...  \n",
       "\n",
       "[230 rows x 5 columns]"
      ]
     },
     "execution_count": 11,
     "metadata": {},
     "output_type": "execute_result"
    }
   ],
   "source": [
    "df"
   ]
  },
  {
   "cell_type": "code",
   "execution_count": 7,
   "metadata": {},
   "outputs": [
    {
     "name": "stdout",
     "output_type": "stream",
     "text": [
      "<class 'pandas.core.frame.DataFrame'>\n",
      "RangeIndex: 230 entries, 0 to 229\n",
      "Data columns (total 5 columns):\n",
      " #   Column               Non-Null Count  Dtype \n",
      "---  ------               --------------  ----- \n",
      " 0   Intitulé du poste    230 non-null    object\n",
      " 1   Date de publication  230 non-null    object\n",
      " 2   lieu                 230 non-null    object\n",
      " 3   competences          230 non-null    object\n",
      " 4   Type de poste        230 non-null    object\n",
      "dtypes: object(5)\n",
      "memory usage: 9.1+ KB\n"
     ]
    }
   ],
   "source": [
    "df.info()"
   ]
  },
  {
   "cell_type": "code",
   "execution_count": 6,
   "metadata": {},
   "outputs": [
    {
     "data": {
      "text/html": [
       "<div>\n",
       "<style scoped>\n",
       "    .dataframe tbody tr th:only-of-type {\n",
       "        vertical-align: middle;\n",
       "    }\n",
       "\n",
       "    .dataframe tbody tr th {\n",
       "        vertical-align: top;\n",
       "    }\n",
       "\n",
       "    .dataframe thead th {\n",
       "        text-align: right;\n",
       "    }\n",
       "</style>\n",
       "<table border=\"1\" class=\"dataframe\">\n",
       "  <thead>\n",
       "    <tr style=\"text-align: right;\">\n",
       "      <th></th>\n",
       "      <th>Intitulé du poste</th>\n",
       "      <th>Date de publication</th>\n",
       "      <th>lieu</th>\n",
       "      <th>competences</th>\n",
       "      <th>Type de poste</th>\n",
       "    </tr>\n",
       "  </thead>\n",
       "  <tbody>\n",
       "    <tr>\n",
       "      <th>count</th>\n",
       "      <td>230</td>\n",
       "      <td>230</td>\n",
       "      <td>230</td>\n",
       "      <td>230</td>\n",
       "      <td>230</td>\n",
       "    </tr>\n",
       "    <tr>\n",
       "      <th>unique</th>\n",
       "      <td>203</td>\n",
       "      <td>32</td>\n",
       "      <td>72</td>\n",
       "      <td>203</td>\n",
       "      <td>79</td>\n",
       "    </tr>\n",
       "    <tr>\n",
       "      <th>top</th>\n",
       "      <td>[DEVELOPPEUR AGILE-(H/F)\\n]</td>\n",
       "      <td>\\npostée il y a 1 mois\\n</td>\n",
       "      <td>[\\nParis\\n]</td>\n",
       "      <td>[\\nagile\\n, \\nsql\\n, \\nsupport\\n, \\npython\\n, ...</td>\n",
       "      <td>[\\n, \\n, Société générale, \\n, Client final, \\...</td>\n",
       "    </tr>\n",
       "    <tr>\n",
       "      <th>freq</th>\n",
       "      <td>3</td>\n",
       "      <td>24</td>\n",
       "      <td>38</td>\n",
       "      <td>4</td>\n",
       "      <td>35</td>\n",
       "    </tr>\n",
       "  </tbody>\n",
       "</table>\n",
       "</div>"
      ],
      "text/plain": [
       "                  Intitulé du poste       Date de publication         lieu  \\\n",
       "count                           230                       230          230   \n",
       "unique                          203                        32           72   \n",
       "top     [DEVELOPPEUR AGILE-(H/F)\\n]  \\npostée il y a 1 mois\\n  [\\nParis\\n]   \n",
       "freq                              3                        24           38   \n",
       "\n",
       "                                              competences  \\\n",
       "count                                                 230   \n",
       "unique                                                203   \n",
       "top     [\\nagile\\n, \\nsql\\n, \\nsupport\\n, \\npython\\n, ...   \n",
       "freq                                                    4   \n",
       "\n",
       "                                            Type de poste  \n",
       "count                                                 230  \n",
       "unique                                                 79  \n",
       "top     [\\n, \\n, Société générale, \\n, Client final, \\...  \n",
       "freq                                                   35  "
      ]
     },
     "execution_count": 6,
     "metadata": {},
     "output_type": "execute_result"
    }
   ],
   "source": [
    "df.describe()"
   ]
  },
  {
   "cell_type": "code",
   "execution_count": 8,
   "metadata": {},
   "outputs": [
    {
     "data": {
      "text/plain": [
       "Index(['Intitulé du poste', 'Date de publication', 'lieu', 'competences',\n",
       "       'Type de poste'],\n",
       "      dtype='object')"
      ]
     },
     "execution_count": 8,
     "metadata": {},
     "output_type": "execute_result"
    }
   ],
   "source": [
    "df.columns"
   ]
  },
  {
   "cell_type": "code",
   "execution_count": 10,
   "metadata": {},
   "outputs": [
    {
     "data": {
      "text/plain": [
       "Intitulé du poste      230\n",
       "Date de publication    230\n",
       "lieu                   230\n",
       "competences            230\n",
       "Type de poste          230\n",
       "dtype: int64"
      ]
     },
     "execution_count": 10,
     "metadata": {},
     "output_type": "execute_result"
    }
   ],
   "source": [
    "df.count()"
   ]
  },
  {
   "cell_type": "code",
   "execution_count": null,
   "metadata": {},
   "outputs": [],
   "source": []
  }
 ],
 "metadata": {
  "kernelspec": {
   "display_name": "Python 3",
   "language": "python",
   "name": "python3"
  },
  "language_info": {
   "codemirror_mode": {
    "name": "ipython",
    "version": 3
   },
   "file_extension": ".py",
   "mimetype": "text/x-python",
   "name": "python",
   "nbconvert_exporter": "python",
   "pygments_lexer": "ipython3",
   "version": "3.11.1"
  },
  "orig_nbformat": 4,
  "vscode": {
   "interpreter": {
    "hash": "63e079134cb38ce80821ba824b79e18bb3846e8252c2e11cec491a3b9edeb047"
   }
  }
 },
 "nbformat": 4,
 "nbformat_minor": 2
}
