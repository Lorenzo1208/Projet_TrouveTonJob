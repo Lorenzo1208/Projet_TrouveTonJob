{
 "cells": [
  {
   "cell_type": "code",
   "execution_count": 106,
   "metadata": {},
   "outputs": [
    {
     "name": "stderr",
     "output_type": "stream",
     "text": [
      "C:\\Users\\loren\\AppData\\Local\\Temp\\ipykernel_15792\\1781466382.py:14: FutureWarning: Columnar iteration over characters will be deprecated in future releases.\n",
      "  df[\"salaire_minimum\"], df[\"salaire_maximum\"] = df[\"lieu\"].apply(lambda x: (x[1].split(\"-\")[0].strip(), x[1].split(\"-\")[1].strip()) if len(x) > 1 and '-' in x[1] else ('', '') ).str\n"
     ]
    }
   ],
   "source": [
    "import requests\n",
    "import pandas as pd\n",
    "import re\n",
    "\n",
    "url = \"https://raw.githubusercontent.com/Lorenzo1208/Projet_TrouveTonJob/main/data.json\"\n",
    "response = requests.get(url)\n",
    "data = response.json()\n",
    "df = pd.DataFrame(data)\n",
    "\n",
    "# df['salaire_minimum'] = df['lieu'].apply(lambda x: x[1] if len(x) > 1 else '')\n",
    "# df[\"salaire_maximum\"] = df[\"salaire_minimum\"].apply(lambda x: x.split(\"-\")[1].strip() if '-' in x else '')\n",
    "# df[\"salaire_minimum\"] = df[\"salaire_minimum\"].apply(lambda x: x.split(\"-\")[0].strip() if '-' in x else x)\n",
    "\n",
    "df[\"salaire_minimum\"], df[\"salaire_maximum\"] = df[\"lieu\"].apply(lambda x: (x[1].split(\"-\")[0].strip(), x[1].split(\"-\")[1].strip()) if len(x) > 1 and '-' in x[1] else ('', '') ).str\n",
    "df[\"salaire_minimum\"] = df[\"salaire_minimum\"].apply(lambda x: x.replace(',','.').replace('€','').replace(' ','').replace('/an','') if x and '-' not in x else x)\n",
    "df[\"salaire_maximum\"] = df[\"salaire_maximum\"].apply(lambda x: x.replace(',','.').replace('€','').replace(' ','').replace('/an','') if x and '-' not in x else x)\n",
    "df[\"salaire_maximum\"] = df[\"salaire_maximum\"].replace('selonprofil', '', regex=True)\n",
    "\n",
    "\n",
    "df[\"salaire_minimum\"] = df[\"salaire_minimum\"].replace('.000', '000', regex=True)\n",
    "df[\"salaire_maximum\"] = df[\"salaire_maximum\"].replace('.000', '000', regex=True)\n",
    "# there is one line in my dataframe where value is 30000  become 0 but i need it to stay 30000 the previous code is good for every other value but not for this one\n",
    "\n",
    "\n",
    "# df[\"salaire_minimum\"] = df[\"salaire_minimum\"].replace('.00', '', regex=True)\n",
    "# df[\"salaire_maximum\"] = df[\"salaire_maximum\"].replace('.00', '', regex=True)\n",
    "\n",
    "\n",
    "# df[\"salaire_minimum\"], df[\"salaire_maximum\"] = df[\"lieu\"].apply(lambda x: (x[1].split(\"-\")[0].strip(), x[1].split(\"-\")[1].strip()) if len(x) > 1 and '-' in x[1] else ('', '') ).str\n",
    "# df[\"salaire_minimum\"] = df[\"salaire_minimum\"].apply(lambda x: x.replace(',','.').replace('€','').replace(' ','').replace('/an','').replace('.','') if x and '-' not in x else x)\n",
    "# df[\"salaire_maximum\"] = df[\"salaire_maximum\"].apply(lambda x: x.replace(',','.').replace('€','').replace(' ','').replace('/an','').replace('.','') if x and '-' not in x else x)\n",
    "\n",
    "\n",
    "\n",
    "df['lieu'] = df['lieu'].apply(lambda x : x[0])\n",
    "\n",
    "df = df.apply(lambda c : c.apply(lambda x : ','.join([s.strip(\"\\n \").lower() for s in (x.split(',') if type(x) != list else x)])))\n",
    "\n",
    "df[\"Intitulé du poste\"] = df[\"Intitulé du poste\"].apply(lambda x: x.strip(\"(h/f)\"))\n",
    "\n",
    "df.to_csv(\"data_test1.csv\", index=False)\n"
   ]
  },
  {
   "cell_type": "code",
   "execution_count": 100,
   "metadata": {},
   "outputs": [
    {
     "data": {
      "text/plain": [
       "Intitulé du poste      object\n",
       "Date de publication    object\n",
       "lieu                   object\n",
       "competences            object\n",
       "Type de poste          object\n",
       "salaire_minimum        object\n",
       "salaire_maximum        object\n",
       "dtype: object"
      ]
     },
     "execution_count": 100,
     "metadata": {},
     "output_type": "execute_result"
    }
   ],
   "source": [
    "df.dtypes"
   ]
  }
 ],
 "metadata": {
  "kernelspec": {
   "display_name": "Python 3",
   "language": "python",
   "name": "python3"
  },
  "language_info": {
   "codemirror_mode": {
    "name": "ipython",
    "version": 3
   },
   "file_extension": ".py",
   "mimetype": "text/x-python",
   "name": "python",
   "nbconvert_exporter": "python",
   "pygments_lexer": "ipython3",
   "version": "3.11.1"
  },
  "orig_nbformat": 4,
  "vscode": {
   "interpreter": {
    "hash": "63e079134cb38ce80821ba824b79e18bb3846e8252c2e11cec491a3b9edeb047"
   }
  }
 },
 "nbformat": 4,
 "nbformat_minor": 2
}
