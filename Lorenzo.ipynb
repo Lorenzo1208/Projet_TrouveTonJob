{
 "cells": [
  {
   "cell_type": "code",
   "execution_count": 1,
   "metadata": {},
   "outputs": [],
   "source": [
    "import string\n",
    "import pandas as pd\n",
    "import numpy as np\n",
    "import requests\n",
    "import unidecode\n",
    "\n",
    "url = \"https://raw.githubusercontent.com/Lorenzo1208/Projet_TrouveTonJob/main/data.json\"\n",
    "\n",
    "try:\n",
    "    response = requests.get(url)\n",
    "    data = response.json()\n",
    "    df = pd.DataFrame(data)\n",
    "\n",
    "except:\n",
    "    print(f\"Erreur de chargement du lien - {url}\")\n",
    "    quit()\n",
    "\n",
    "\n",
    "liste_salaires = df['lieu'].apply(lambda x : x[1] if len(x) > 1 else '')\n",
    "\n",
    "df['lieu'] = df['lieu'].apply(lambda x : x[0])\n",
    "\n",
    "df['Nom de la société'] = df['Type de poste'].apply(lambda x : x[2] if len(x) > 2 else '')\n",
    "df['Type de contrat'] = df['Type de poste'].apply(lambda x : x[7].split(' - ')[0] if len(x) > 7 else '')\n",
    "df.drop(columns='Type de poste', inplace=True)\n",
    "\n",
    "df = df.apply(lambda c : c.apply(lambda x : ','.join([s.strip(\"\\n \").lower() for s in (x.split(',') if type(x) != list else x)])))\n",
    "\n",
    "liste_dates = df['Date de publication'].apply(lambda x: '0 j' if x.find('heures') != -1 else x.removeprefix('postée il y a ').replace('postée hier', '1 j').strip('iours'))\n",
    "\n",
    "df['Date de publication'] = pd.to_datetime(liste_dates.apply(\n",
    "    lambda x :\n",
    "        pd.to_datetime(\"2023-01-15\") - pd.DateOffset(months=int(x.split()[0])) if x.split()[1] == 'm'\n",
    "        else pd.to_datetime(\"2023-01-15\") - pd.DateOffset(days=int(x.split()[0]))\n",
    "    ))\n",
    "\n",
    "df['Salaire minimum'] = liste_salaires.apply(lambda x : float(x.split(' - ')[0].strip(' €\\n').replace('.', '').replace(',', '.')) if x != '' else np.nan)\n",
    "df['Salaire maximum'] = liste_salaires.apply(lambda x : float(x.split(' - ')[1].strip(' €/an\\n' + string.ascii_letters).replace('.', '').replace(',', '.')) if x != '' else np.nan)\n",
    "\n",
    "noms_ville = ['la defense', 'guyancourt', 'antony', 'paris']\n",
    "\n",
    "df['lieu'] = df['lieu'].apply(\n",
    "    lambda x : (\n",
    "        [n for n in noms_ville for i in unidecode.unidecode(x).replace(' - ', ',').replace('-', ' ').split(',') if n in i] +\n",
    "        [unidecode.unidecode(x).replace('-', ' ')]\n",
    "        )[0]\n",
    "    )\n",
    "\n",
    "#remplace si data analyst dans vavlue par data analyste etc\n",
    "terms_to_replace = {'analyst': 'data analyst', 'datascientist': 'data scientist', 'data engineer': 'ingénieur'}\n",
    "df[\"Intitulé du poste\"] = df[\"Intitulé du poste\"].apply(lambda x: ' '.join([terms_to_replace.get(term, term) for term in unidecode.unidecode(x).split()]))\n",
    "\n",
    "keywords = [\"business analyst\",\"analyste fonctionnel\",\"architecte\",\"apprenti\",\"data ingenieur\", \"data engineer\",\"data analyst\",\"data scientist\",\"consultant\",\"ingenieur\",\"chef de projet\",\"concepteur\",\"alternance\",\"stage\",\n",
    "            \"technical leader\",\"technicien\",\"responsable\",\"référent\",\"expert\",\"developpeur\"]\n",
    "\n",
    "for keyword in keywords:\n",
    "    df[\"Intitulé du poste\"] = df[\"Intitulé du poste\"].str.replace(rf\"(.*{keyword})\", keyword, regex=True)\n",
    "    df[\"Intitulé du poste\"] = df[\"Intitulé du poste\"].str.replace(rf\"({keyword}.*)\", keyword, regex=True)\n",
    "\n",
    "\n",
    "df.to_csv(\"data_test1.csv\")"
   ]
  },
  {
   "cell_type": "code",
   "execution_count": null,
   "metadata": {},
   "outputs": [],
   "source": [
    "from sklearn.linear_model import LinearRegression\n",
    "from sklearn.model_selection import train_test_split\n",
    "\n",
    "# Séparer les données en variables indépendantes (X) et dépendante (y)\n",
    "X = df[['Intitulé du poste', 'Date de publication', 'lieu', 'competences','Type de poste']]\n",
    "y = df[['salaire_minimum', 'salaire_maximum']]\n",
    "\n",
    "# Séparer les données en jeux d'entraînement et de test\n",
    "X_train, X_test, y_train, y_test = train_test_split(X, y, test_size=0.2)\n",
    "\n",
    "# Créer un objet de régression linéaire\n",
    "reg = LinearRegression()\n",
    "\n",
    "# Entraîner le modèle sur les données d'entraînement\n",
    "reg.fit(X_train, y_train)\n",
    "\n",
    "# Effectuer des prédictions sur les données de test\n",
    "y_pred = reg.predict(X_test)\n",
    "\n",
    "# Afficher les résultats de précision\n",
    "print(reg.score(X_test, y_test))"
   ]
  }
 ],
 "metadata": {
  "kernelspec": {
   "display_name": "Python 3",
   "language": "python",
   "name": "python3"
  },
  "language_info": {
   "codemirror_mode": {
    "name": "ipython",
    "version": 3
   },
   "file_extension": ".py",
   "mimetype": "text/x-python",
   "name": "python",
   "nbconvert_exporter": "python",
   "pygments_lexer": "ipython3",
   "version": "3.11.1"
  },
  "orig_nbformat": 4,
  "vscode": {
   "interpreter": {
    "hash": "63e079134cb38ce80821ba824b79e18bb3846e8252c2e11cec491a3b9edeb047"
   }
  }
 },
 "nbformat": 4,
 "nbformat_minor": 2
}
